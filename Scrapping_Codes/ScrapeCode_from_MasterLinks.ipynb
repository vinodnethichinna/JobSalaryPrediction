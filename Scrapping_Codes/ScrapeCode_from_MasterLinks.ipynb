{
 "cells": [
  {
   "cell_type": "code",
   "execution_count": 44,
   "metadata": {},
   "outputs": [],
   "source": [
    "#Importing Required Libraries.\n",
    "import requests\n",
    "from bs4 import BeautifulSoup\n",
    "import pandas as pd\n",
    "import requests"
   ]
  },
  {
   "cell_type": "code",
   "execution_count": 27,
   "metadata": {},
   "outputs": [],
   "source": [
    "#Creating empty list so we can append data in next steps.\n",
    "titles = []\n",
    "companies = []\n",
    "locations = []\n",
    "salaries = []\n",
    "jsummary = []\n",
    "jlink = []\n",
    "jdesc = []"
   ]
  },
  {
   "cell_type": "code",
   "execution_count": 28,
   "metadata": {},
   "outputs": [],
   "source": [
    "#This file created in another job. we have builded file with required links to scrape and passes this as input to our process.\n",
    "master = pd.read_csv('Data Files\\Master_links_for_scrapping.csv')"
   ]
  },
  {
   "cell_type": "code",
   "execution_count": 43,
   "metadata": {},
   "outputs": [
    {
     "name": "stdout",
     "output_type": "stream",
     "text": [
      "Link opened: https://ca.indeed.com/jobs?q=big+data+engineer&l=canada&start=890\n",
      "number of cards :  0\n",
      "Link opened: https://ca.indeed.com/jobs?q=big+data+engineer&l=canada&start=900\n",
      "number of cards :  0\n",
      "Link opened: https://ca.indeed.com/jobs?q=big+data+engineer&l=canada&start=910\n",
      "number of cards :  0\n",
      "Link opened: https://ca.indeed.com/jobs?q=big+data+engineer&l=canada&start=920\n",
      "number of cards :  0\n",
      "Link opened: https://ca.indeed.com/jobs?q=big+data+engineer&l=canada&start=930\n",
      "number of cards :  0\n",
      "Link opened: https://ca.indeed.com/jobs?q=big+data+engineer&l=canada&start=940\n",
      "number of cards :  0\n",
      "Link opened: https://ca.indeed.com/jobs?q=big+data+engineer&l=canada&start=950\n",
      "number of cards :  0\n",
      "Link opened: https://ca.indeed.com/jobs?q=big+data+engineer&l=canada&start=960\n",
      "number of cards :  0\n",
      "Link opened: https://ca.indeed.com/jobs?q=big+data+engineer&l=canada&start=970\n",
      "number of cards :  0\n",
      "Link opened: https://ca.indeed.com/jobs?q=big+data+engineer&l=canada&start=980\n",
      "number of cards :  0\n",
      "Link opened: https://ca.indeed.com/jobs?q=big+data+engineer&l=canada&start=990\n",
      "number of cards :  0\n"
     ]
    }
   ],
   "source": [
    "#The below code will iterate through all master links and fetches required data from all links.\n",
    "# we faced problem if we try to run all links at a time. due to security issue ip blocking and access denied errors are occured.\n",
    "#so to overcome we ran this code from 10-20 links at a time.\n",
    "for url in master.links[10:20]:\n",
    "\n",
    "    #requesting access to page.\n",
    "    page=requests.get(url)\n",
    "    print(\"Link opened:\",url)\n",
    "\n",
    "    #obtaining html structure of webpage.\n",
    "    soup = BeautifulSoup(page.content,'html.parser')\n",
    "\n",
    "    #getting all cards (job cards)\n",
    "    cards = soup.find_all('div','jobsearch-SerpJobCard')\n",
    "    print('number of cards : ',len(cards))\n",
    "\n",
    "\n",
    "    #looping over cards\n",
    "    for card in cards:\n",
    "        try:\n",
    "            title = card.h2.a.get('title')\n",
    "        except:\n",
    "            title = ''\n",
    "        titles.append(title)\n",
    "        try:\n",
    "            company = card.find('span','company').text.strip()\n",
    "        except:\n",
    "            company = ''\n",
    "        companies.append(company)\n",
    "\n",
    "        try:\n",
    "            location = card.find('div','recJobLoc').get('data-rc-loc')\n",
    "        except:\n",
    "            location = ''\n",
    "        locations.append(location)\n",
    "\n",
    "        try:\n",
    "            salary = card.find('span','salaryText').text.strip()\n",
    "        except:\n",
    "            salary = ''\n",
    "        salaries.append(salary)\n",
    "\n",
    "        try:\n",
    "            job_summary = card.find('div','summary').text.strip()\n",
    "        except:\n",
    "            job_summary = ''\n",
    "        jsummary.append(job_summary)\n",
    "\n",
    "        try:\n",
    "            job_link = \"https://ca.indeed.com\" + card.h2.a.get('href')\n",
    "        except:\n",
    "            job_link = ''\n",
    "        jlink.append(job_link)\n",
    "\n",
    "        page2=requests.get(job_link)\n",
    "        soup2 = BeautifulSoup(page2.content,'html.parser')\n",
    "\n",
    "        try:\n",
    "            job_desc = soup2.find('div',{'id':'jobDescriptionText'}).text\n",
    "        except:\n",
    "            job_desc = ''\n",
    "        jdesc.append(job_desc)\n",
    "\n",
    "        "
   ]
  },
  {
   "cell_type": "markdown",
   "metadata": {},
   "source": [
    "# we will run this step after completing all master links."
   ]
  },
  {
   "cell_type": "code",
   "execution_count": 33,
   "metadata": {},
   "outputs": [],
   "source": [
    "#we will run this step after completing all master links.\n",
    "\n",
    "df=pd.DataFrame()\n",
    "df['Job_Title']=titles\n",
    "df['Company']=companies\n",
    "df['Job_Location']=locations\n",
    "df['Salaries']=salaries\n",
    "df['Job_Summary']=jsummary\n",
    "df['Job_Link']=jlink\n",
    "df['Job_Description']=jdesc"
   ]
  },
  {
   "cell_type": "code",
   "execution_count": 35,
   "metadata": {},
   "outputs": [],
   "source": [
    "#Exporting data to csv\n",
    "\n",
    "#commented the below line, please uncomment accordingly.\n",
    "\n",
    "#df.to_csv('Data Files\\Data_From_MasterLinks.csv')"
   ]
  },
  {
   "cell_type": "code",
   "execution_count": null,
   "metadata": {},
   "outputs": [],
   "source": []
  }
 ],
 "metadata": {
  "kernelspec": {
   "display_name": "Python 3",
   "language": "python",
   "name": "python3"
  },
  "language_info": {
   "codemirror_mode": {
    "name": "ipython",
    "version": 3
   },
   "file_extension": ".py",
   "mimetype": "text/x-python",
   "name": "python",
   "nbconvert_exporter": "python",
   "pygments_lexer": "ipython3",
   "version": "3.7.6"
  }
 },
 "nbformat": 4,
 "nbformat_minor": 4
}
