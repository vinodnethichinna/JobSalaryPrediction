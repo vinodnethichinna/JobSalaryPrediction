{
 "cells": [
  {
   "cell_type": "code",
   "execution_count": 6,
   "metadata": {},
   "outputs": [],
   "source": [
    "#importing required libraries.\n",
    "import pandas as pd"
   ]
  },
  {
   "cell_type": "code",
   "execution_count": 7,
   "metadata": {},
   "outputs": [],
   "source": [
    "#combining data from scrapping code. after performing trial and error method we endup with below data.\n",
    "data1 = pd.read_csv('https://raw.githubusercontent.com/munipadmanabha-s7872/JobSalaryPrediction/vinod/Data%20Files/Business_Analyst_1.csv') \n",
    "data2 = pd.read_csv('https://raw.githubusercontent.com/munipadmanabha-s7872/JobSalaryPrediction/vinod/Data%20Files/Business_Analyst_2.csv')\n",
    "data3 = pd.read_csv('https://raw.githubusercontent.com/munipadmanabha-s7872/JobSalaryPrediction/vinod/Data%20Files/Indeed_Jobs.csv')\n",
    "data4 = pd.read_csv('https://raw.githubusercontent.com/munipadmanabha-s7872/JobSalaryPrediction/vinod/Data%20Files/MachineLearningJobs.csv')\n",
    "data5 = pd.read_csv('https://raw.githubusercontent.com/munipadmanabha-s7872/JobSalaryPrediction/vinod/Data%20Files/Indeed_jobs_2.csv')"
   ]
  },
  {
   "cell_type": "code",
   "execution_count": 8,
   "metadata": {},
   "outputs": [],
   "source": [
    "#converting data into pandas dataframe.\n",
    "df1 = pd.DataFrame(data1)\n",
    "df2 = pd.DataFrame(data2)\n",
    "df3 = pd.DataFrame(data3)\n",
    "df4 = pd.DataFrame(data4)\n",
    "df5 = pd.DataFrame(data5)"
   ]
  },
  {
   "cell_type": "code",
   "execution_count": 9,
   "metadata": {},
   "outputs": [],
   "source": [
    "#concatenating all the dataframes.\n",
    "df = pd.concat([df1,df2,df3,df4,df5])"
   ]
  },
  {
   "cell_type": "code",
   "execution_count": 10,
   "metadata": {},
   "outputs": [],
   "source": [
    "#we are also taking some input from google which has data of job information. we are only using part of data sample of \n",
    "#600 records.\n",
    "data_google = pd.read_csv('https://raw.githubusercontent.com/munipadmanabha-s7872/JobSalaryPrediction/vinod/Data%20Files/DataFromWeb.csv')"
   ]
  },
  {
   "cell_type": "code",
   "execution_count": 11,
   "metadata": {},
   "outputs": [],
   "source": [
    "df6 = data_google"
   ]
  },
  {
   "cell_type": "code",
   "execution_count": 12,
   "metadata": {},
   "outputs": [],
   "source": [
    "#Retaining required columns.\n",
    "df6 = df6[['Unnamed: 0', 'Title', 'Company', 'Location2', 'Salary',\n",
    "        'Link', 'Description']]"
   ]
  },
  {
   "cell_type": "code",
   "execution_count": 13,
   "metadata": {},
   "outputs": [],
   "source": [
    "#Renaming as per our standard to combine with above dataframe.\n",
    "df6 = df6.rename(columns = {'Title' : 'Job_Title','Location2':'Job_Location','Salary':'Salaries',\n",
    "                     'Link':'Job_Link','Description':'Job_Description'})"
   ]
  },
  {
   "cell_type": "code",
   "execution_count": 14,
   "metadata": {},
   "outputs": [],
   "source": [
    "#dropping job summary column.\n",
    "df.drop(columns = ['Job_Summary'],inplace = True)"
   ]
  },
  {
   "cell_type": "code",
   "execution_count": 15,
   "metadata": {},
   "outputs": [],
   "source": [
    "#concatenating scrapped data and data from google.\n",
    "df_final = pd.concat([df,df6])"
   ]
  },
  {
   "cell_type": "code",
   "execution_count": 16,
   "metadata": {},
   "outputs": [
    {
     "data": {
      "text/plain": [
       "(2765, 7)"
      ]
     },
     "execution_count": 16,
     "metadata": {},
     "output_type": "execute_result"
    }
   ],
   "source": [
    "#Shape of final dataframe.\n",
    "df_final.shape"
   ]
  },
  {
   "cell_type": "code",
   "execution_count": 23,
   "metadata": {},
   "outputs": [],
   "source": [
    "#Exporting to CSV File.\n",
    "#please uncomment the below line accordingly.\n",
    "\n",
    "#df_final.to_csv('C:/Users/Vinod/Special Topics Project/Data Files/Final_Scrapped_Data.csv')"
   ]
  }
 ],
 "metadata": {
  "kernelspec": {
   "display_name": "Python 3",
   "language": "python",
   "name": "python3"
  },
  "language_info": {
   "codemirror_mode": {
    "name": "ipython",
    "version": 3
   },
   "file_extension": ".py",
   "mimetype": "text/x-python",
   "name": "python",
   "nbconvert_exporter": "python",
   "pygments_lexer": "ipython3",
   "version": "3.7.6"
  }
 },
 "nbformat": 4,
 "nbformat_minor": 4
}
