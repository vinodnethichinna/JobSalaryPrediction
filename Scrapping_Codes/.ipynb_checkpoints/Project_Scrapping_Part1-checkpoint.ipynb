{
 "cells": [
  {
   "cell_type": "code",
   "execution_count": 7,
   "metadata": {},
   "outputs": [],
   "source": [
    "#Importing Required Libraries\n",
    "import requests\n",
    "from bs4 import BeautifulSoup\n",
    "import pandas as pd\n",
    "import requests"
   ]
  },
  {
   "cell_type": "code",
   "execution_count": 75,
   "metadata": {},
   "outputs": [],
   "source": [
    "#lists required\n",
    "titles = []\n",
    "companies = []\n",
    "locations = []\n",
    "salaries = []\n",
    "jsummary = []\n",
    "jlink = []\n",
    "jdesc = []\n"
   ]
  },
  {
   "cell_type": "code",
   "execution_count": 157,
   "metadata": {},
   "outputs": [],
   "source": [
    "url_list = []"
   ]
  },
  {
   "cell_type": "code",
   "execution_count": null,
   "metadata": {},
   "outputs": [],
   "source": [
    "#this is a template and in below step user can pass the criteria.\n",
    "rawurl = 'https://ca.indeed.com/{}+{}-jobs-in-{}'"
   ]
  },
  {
   "cell_type": "code",
   "execution_count": 173,
   "metadata": {},
   "outputs": [],
   "source": [
    "#change here for criteria\n",
    "url = rawurl.format('data','analyst','canada')\n",
    "\n",
    "url_list.append(url)\n",
    "\n",
    "\n",
    "#creating master links with different page numbers.\n",
    "for i in range(10,270,10):\n",
    "    url_list.append('https://ca.indeed.com/jobs?q=data%2Banalyst&l=vancouver&start='+str(i))\n",
    "    \n",
    "for url in url_list:\n",
    "\n",
    "\n",
    "    #requesting access to page.\n",
    "    page=requests.get(url)\n",
    "\n",
    "    #obtaining html structure of webpage.\n",
    "    soup = BeautifulSoup(page.content,'html.parser')\n",
    "\n",
    "    #getting all cards (job cards)\n",
    "    cards = soup.find_all('div','jobsearch-SerpJobCard')\n",
    "\n",
    "    #looping over cards\n",
    "    for card in cards:\n",
    "        try:\n",
    "            title = card.h2.a.get('title')\n",
    "        except:\n",
    "            title = ''\n",
    "        titles.append(title)\n",
    "\n",
    "\n",
    "        try:\n",
    "            company = card.find('span','company').text.strip()\n",
    "        except:\n",
    "            company = ''\n",
    "        companies.append(company)\n",
    "\n",
    "        try:\n",
    "            location = card.find('div','recJobLoc').get('data-rc-loc')\n",
    "        except:\n",
    "            location = ''\n",
    "        locations.append(location)\n",
    "\n",
    "        try:\n",
    "            salary = card.find('span','salaryText').text.strip()\n",
    "        except:\n",
    "            salary = ''\n",
    "        salaries.append(salary)\n",
    "\n",
    "        try:\n",
    "            job_summary = card.find('div','summary').text.strip()\n",
    "        except:\n",
    "            job_summary = ''\n",
    "        jsummary.append(job_summary)\n",
    "\n",
    "        try:\n",
    "            job_link = \"https://ca.indeed.com\" + card.h2.a.get('href')\n",
    "        except:\n",
    "            job_link = ''\n",
    "        jlink.append(job_link)\n",
    "\n",
    "        page2=requests.get(job_link)\n",
    "        soup2 = BeautifulSoup(page2.content,'html.parser')\n",
    "\n",
    "        try:\n",
    "            job_desc = soup2.find('div',{'id':'jobDescriptionText'}).text\n",
    "        except:\n",
    "            job_desc = ''\n",
    "        jdesc.append(job_desc)\n",
    "\n",
    "        "
   ]
  },
  {
   "cell_type": "code",
   "execution_count": null,
   "metadata": {},
   "outputs": [],
   "source": [
    "#we will run this step after completing all master links.\n",
    "\n",
    "df=pd.DataFrame()\n",
    "df['Job_Title']=titles\n",
    "df['Company']=companies\n",
    "df['Job_Location']=locations\n",
    "df['Salaries']=salaries\n",
    "df['Job_Summary']=jsummary\n",
    "df['Job_Link']=jlink\n",
    "df['Job_Description']=jdesc"
   ]
  },
  {
   "cell_type": "code",
   "execution_count": null,
   "metadata": {},
   "outputs": [],
   "source": [
    "#df.to_csv('Data Files\\##.csv') ## change ## name accordingly as per your scrapping criteria.ex-data analyst,data scientist etc."
   ]
  }
 ],
 "metadata": {
  "kernelspec": {
   "display_name": "Python 3",
   "language": "python",
   "name": "python3"
  },
  "language_info": {
   "codemirror_mode": {
    "name": "ipython",
    "version": 3
   },
   "file_extension": ".py",
   "mimetype": "text/x-python",
   "name": "python",
   "nbconvert_exporter": "python",
   "pygments_lexer": "ipython3",
   "version": "3.7.6"
  }
 },
 "nbformat": 4,
 "nbformat_minor": 4
}
