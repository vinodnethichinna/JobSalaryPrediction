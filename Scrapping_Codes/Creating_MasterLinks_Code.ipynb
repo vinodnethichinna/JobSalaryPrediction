{
 "cells": [
  {
   "cell_type": "code",
   "execution_count": 1,
   "metadata": {},
   "outputs": [],
   "source": [
    "#Creating a list to store links\n",
    "master_list = []"
   ]
  },
  {
   "cell_type": "code",
   "execution_count": 2,
   "metadata": {},
   "outputs": [],
   "source": [
    "#taking important base links as per requirements.\n",
    "master_list.append('https://ca.indeed.com/jobs?q=data&l=canada') #has 3000jobs\n",
    "master_list.append('https://ca.indeed.com/jobs?q=junior+data+developer&l=canada') #has 400 jobs\n",
    "master_list.append('https://ca.indeed.com/jobs?q=business+data+analyst&l=canada') #has 3000 jobs\n",
    "master_list.append('https://ca.indeed.com/jobs?q=statistician&l=canada') #50 jobs\n",
    "master_list.append('https://ca.indeed.com/jobs?q=big+data+engineer&l=canada') #1000 jobs"
   ]
  },
  {
   "cell_type": "code",
   "execution_count": 4,
   "metadata": {},
   "outputs": [],
   "source": [
    "#iterating through each link and adjusting limits in range depending on number of jobs in \n",
    "#link(depends on pages in particular link)\n",
    "for i in range(10,1000,10):\n",
    "    #master_list.append('https://ca.indeed.com/jobs?q=data&l=canada&start='+str(i))\n",
    "    #master_list.append('https://ca.indeed.com/jobs?q=junior+data+developer&l=canada&start='+str(i))\n",
    "    #master_list.append('https://ca.indeed.com/jobs?q=business+data+analyst&l=canada&start='+str(i))\n",
    "    #master_list.append('https://ca.indeed.com/jobs?q=big+data+engineer&l=canada&start='+str(i))"
   ]
  },
  {
   "cell_type": "code",
   "execution_count": null,
   "metadata": {},
   "outputs": [],
   "source": [
    "#creating a dataframe.\n",
    "master_df = pd.DataFrame(master_list,columns = ['links'])"
   ]
  },
  {
   "cell_type": "code",
   "execution_count": null,
   "metadata": {},
   "outputs": [],
   "source": [
    "#exporting links to csv.\n",
    "#commented this line just to make sure datafile is not overridded because data is chnaging some frequently in website.\n",
    "\n",
    "#master_df.to_csv('Data Files\\Master_links_for_scrapping.csv')"
   ]
  }
 ],
 "metadata": {
  "kernelspec": {
   "display_name": "Python 3",
   "language": "python",
   "name": "python3"
  },
  "language_info": {
   "codemirror_mode": {
    "name": "ipython",
    "version": 3
   },
   "file_extension": ".py",
   "mimetype": "text/x-python",
   "name": "python",
   "nbconvert_exporter": "python",
   "pygments_lexer": "ipython3",
   "version": "3.7.6"
  }
 },
 "nbformat": 4,
 "nbformat_minor": 4
}
